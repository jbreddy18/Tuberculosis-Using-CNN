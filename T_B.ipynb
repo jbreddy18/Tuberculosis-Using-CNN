{
  "cells": [
    {
      "cell_type": "markdown",
      "metadata": {
        "id": "view-in-github",
        "colab_type": "text"
      },
      "source": [
        "<a href=\"https://colab.research.google.com/github/jbreddy18/Tuberculosis-Using-CNN/blob/main/T_B.ipynb\" target=\"_parent\"><img src=\"https://colab.research.google.com/assets/colab-badge.svg\" alt=\"Open In Colab\"/></a>"
      ]
    },
    {
      "cell_type": "code",
      "execution_count": null,
      "metadata": {
        "id": "GrErBKT3RzBB"
      },
      "outputs": [],
      "source": [
        "import pandas as pd\n",
        "import cv2\n",
        "import os\n",
        "import numpy as np\n",
        "# import pandas as pd\n",
        "# from math import exp, sqrt\n",
        "import matplotlib.pyplot as plt\n",
        "from sklearn.model_selection import train_test_split\n",
        "from sklearn.utils import shuffle\n",
        "import keras\n",
        "import tensorflow as tf\n",
        "import tensorflow.keras.backend as K\n",
        "from keras import Input\n",
        "from keras.models import Model\n",
        "from keras.layers import Dense, Dropout, Activation, Flatten\n",
        "# from keras.layers import  BatchNormalization, Concatenate, Add, DepthwiseConv2D, GlobalAveragePooling2D, SeparableConv2D,GlobalMaxPooling2D\n",
        "from tensorflow.keras.optimizers import SGD,RMSprop,Adam,Adagrad\n",
        "from keras.layers import Conv2D , MaxPooling2D\n",
        "from tensorflow.keras import layers\n",
        "from keras.layers import *\n",
        "from tensorflow.keras import activations\n",
        "from tensorflow.keras.models import Sequential\n",
        "from tensorflow.keras.layers import Conv2D\n",
        "from tensorflow.keras.optimizers import Adam\n",
        "from tensorflow.keras.losses import MeanSquaredError\n",
        "from sklearn import metrics"
      ]
    },
    {
      "cell_type": "code",
      "execution_count": null,
      "metadata": {
        "colab": {
          "base_uri": "https://localhost:8080/"
        },
        "id": "WLh41JyRab-a",
        "outputId": "3f55d973-74c2-439f-ea58-e70c4df70f25"
      },
      "outputs": [
        {
          "name": "stdout",
          "output_type": "stream",
          "text": [
            "Mounted at /content/drive\n"
          ]
        }
      ],
      "source": [
        "from google.colab import drive\n",
        "drive.mount('/content/drive')"
      ]
    },
    {
      "cell_type": "code",
      "execution_count": null,
      "metadata": {
        "id": "XaMJweCDrBai"
      },
      "outputs": [],
      "source": [
        "nr=\"/content/drive/MyDrive/T.B DATASET/Normal\"\n",
        "tb=\"/content/drive/MyDrive/T.B DATASET/Tuberculosis\""
      ]
    },
    {
      "cell_type": "code",
      "execution_count": null,
      "metadata": {
        "colab": {
          "base_uri": "https://localhost:8080/"
        },
        "id": "Q6qfjXfEp0PO",
        "outputId": "c825e45d-9d66-4d7a-959b-4cff44d42428"
      },
      "outputs": [
        {
          "output_type": "stream",
          "name": "stdout",
          "text": [
            "(3520, 128, 128, 3)\n"
          ]
        }
      ],
      "source": [
        "img_data_list=[]\n",
        "\n",
        "labels = []\n",
        "\n",
        "i = 0\n",
        "for dataset in os.listdir(nr):\n",
        "\n",
        "        # print ('Loaded the images of dataset-'+'{}\\n'.format(data_path+'/'+dataset))\n",
        "        input_img=cv2.imread(nr+ '/'+ dataset)\n",
        "        input_img = cv2.cvtColor(input_img, cv2.COLOR_BGR2RGB)\n",
        "        input_img_resize=cv2.resize(input_img,(128,128), interpolation = cv2.INTER_AREA)\n",
        "        img_data_list.append(input_img_resize)\n",
        "#fo('Loaded the images of dataset-'+'{}\\n'.format(trans_path + '/trans'+ dataset[3:]))\n",
        "        #label=cv2.imread(nr + '/'+ dataset)\n",
        "       # label = cv2.cvtColor(label, cv2.COLOR_BGR2RGB)\n",
        "       # label_resize=cv2.resize(label,(256,256), interpolation = cv2.INTER_AREA)\n",
        "        labels.append('0')\n",
        "        i = i+1\n",
        "\n",
        "\n",
        "#label=np.array(labels)\n",
        "#print(label.shape)\n",
        "\n",
        "img_data = np.array(img_data_list,dtype='float32')/255\n",
        "print(img_data.shape)\n",
        "\n",
        "# pl = plt.imshow(img_data[1])\n",
        "# plt.show()"
      ]
    },
    {
      "cell_type": "code",
      "execution_count": null,
      "metadata": {
        "colab": {
          "base_uri": "https://localhost:8080/"
        },
        "id": "s16BZdeuTnvu",
        "outputId": "d130f448-e242-4449-a317-8e48ea157b07"
      },
      "outputs": [
        {
          "output_type": "stream",
          "name": "stdout",
          "text": [
            "(4230, 128, 128, 3)\n"
          ]
        }
      ],
      "source": [
        "#img_data_list=[]\n",
        "\n",
        "#labels = []\n",
        "\n",
        "i = 0\n",
        "for dataset in os.listdir(tb):\n",
        "\n",
        "        # print ('Loaded the images of dataset-'+'{}\\n'.format(data_path+'/'+dataset))\n",
        "        input_img=cv2.imread(tb + '/'+ dataset )\n",
        "        input_img = cv2.cvtColor(input_img, cv2.COLOR_BGR2RGB)\n",
        "        input_img_resize=cv2.resize(input_img,(128,128), interpolation = cv2.INTER_AREA)\n",
        "        img_data_list.append(input_img_resize)\n",
        "        # if (i%1000==0):\n",
        "        #   print(i)\n",
        "        # print ('Loaded the images of dataset-'+'{}\\n'.format(trans_path + '/trans'+ dataset[3:]))\n",
        "        #label=cv2.imread(tb + '/'+ dataset)\n",
        "        #label = cv2.cvtColor(label, cv2.COLOR_BGR2RGB)\n",
        "        #label_resize=cv2.resize(label,(256,256), interpolation = cv2.INTER_AREA)\n",
        "        labels.append('1')\n",
        "        i = i+1\n",
        "        # if (i%1000==0):\n",
        "        #   print(i)\n",
        "\n",
        "#label=np.array(labels)\n",
        "#print(labels.shape)\n",
        "\n",
        "\n",
        "img_data = np.array(img_data_list,dtype='float32')/255\n",
        "print(img_data.shape)"
      ]
    },
    {
      "cell_type": "code",
      "execution_count": null,
      "metadata": {
        "colab": {
          "base_uri": "https://localhost:8080/"
        },
        "id": "2P1GvhFrTbto",
        "outputId": "6e939142-a28f-47b0-a0a1-5c01c0a8b299"
      },
      "outputs": [
        {
          "output_type": "stream",
          "name": "stdout",
          "text": [
            "[[1. 0.]\n",
            " [1. 0.]\n",
            " [1. 0.]\n",
            " ...\n",
            " [0. 1.]\n",
            " [0. 1.]\n",
            " [0. 1.]]\n"
          ]
        }
      ],
      "source": [
        "a=tf.keras.utils.to_categorical(\n",
        "    labels, num_classes=2, dtype='float32')\n",
        "print(a)"
      ]
    },
    {
      "cell_type": "code",
      "execution_count": null,
      "metadata": {
        "id": "F2U_e6ZHcYMO"
      },
      "outputs": [],
      "source": [
        "\n",
        "# Example directory containing image data\n",
        "#image_directory = '/content/drive/MyDrive/T.B DATASET/Normal'\n",
        "\n",
        "# Load images and labels\n",
        "#X, y = load_images(\"/content/drive/MyDrive/T.B DATASET/Normal\")\n",
        "\n",
        "# Split the dataset into training and test sets\n",
        "X_train, X_test, y_train, y_test = train_test_split(img_data, a, test_size=0.2, random_state=42)\n",
        "\n",
        "# At this point, X_train, X_test, y_train, and y_test are ready to be used in your model"
      ]
    },
    {
      "cell_type": "markdown",
      "metadata": {
        "id": "d_e6j0PjcnE8"
      },
      "source": [
        "Test Data"
      ]
    },
    {
      "cell_type": "code",
      "execution_count": null,
      "metadata": {
        "id": "dH9pCSZOcwQx"
      },
      "outputs": [],
      "source": [
        "#test_path= '/content/drive/MyDrive/T.B DATASET/Normal' #'/drive/MyDrive/attention_model/dataset/test_hazy' '\n",
        "# gt_path='/drive/MyDrive/attention_model/dataset/test_clear'"
      ]
    },
    {
      "cell_type": "code",
      "execution_count": null,
      "metadata": {
        "colab": {
          "base_uri": "https://localhost:8080/"
        },
        "id": "CO6FQCg-Ylci",
        "outputId": "c62e8e9d-9215-40e8-fa57-30753c9efd73"
      },
      "outputs": [
        {
          "name": "stdout",
          "output_type": "stream",
          "text": [
            "(3952, 256, 256, 3)\n"
          ]
        }
      ],
      "source": [
        "print(X_train.shape)"
      ]
    },
    {
      "cell_type": "code",
      "execution_count": null,
      "metadata": {
        "colab": {
          "base_uri": "https://localhost:8080/"
        },
        "id": "zoTThlryK40k",
        "outputId": "39cb061e-9b4a-4833-eab9-0331f38d9cbe"
      },
      "outputs": [
        {
          "data": {
            "text/plain": [
              "(40, 2)"
            ]
          },
          "execution_count": 13,
          "metadata": {},
          "output_type": "execute_result"
        }
      ],
      "source": [
        "y_test.shape"
      ]
    },
    {
      "cell_type": "markdown",
      "metadata": {
        "id": "RLYv7ImFdk7y"
      },
      "source": [
        "Define a Convolution Neural Network"
      ]
    },
    {
      "cell_type": "code",
      "execution_count": null,
      "metadata": {
        "id": "q1-gwCS7eKPZ"
      },
      "outputs": [],
      "source": [
        "\n",
        "def createmodel():\n",
        "\n",
        "    model = Sequential()\n",
        "    input_shape = (128, 128, 3)\n",
        "\n",
        "    #The first two layers with 32 filters of window size 3x3\n",
        "    model.add(Conv2D(32, (3, 3), padding='same', activation='relu', input_shape=input_shape))\n",
        "    model.add(Conv2D(32, (3, 3), activation='relu'))\n",
        "    model.add(MaxPooling2D(pool_size=(2, 2)))\n",
        "    model.add(Dropout(0.25))\n",
        "\n",
        "    model.add(Conv2D(64, (3, 3), padding='same', activation='relu'))\n",
        "    model.add(Conv2D(64, (3, 3), activation='relu'))\n",
        "    model.add(MaxPooling2D(pool_size=(2, 2)))\n",
        "    model.add(Dropout(0.25))\n",
        "\n",
        "    model.add(Conv2D(64, (3, 3), padding='same', activation='relu'))\n",
        "    model.add(Conv2D(64, (3, 3), activation='relu'))\n",
        "    model.add(MaxPooling2D(pool_size=(2, 2)))\n",
        "    model.add(Dropout(0.25))\n",
        "\n",
        "    model.add(Flatten())\n",
        "    model.add(Dense(512, activation='relu'))\n",
        "    model.add(Dropout(0.5))\n",
        "    model.add(Dense(units=2, activation='softmax'))\n",
        "\n",
        "    return model\n",
        "\n",
        "\n",
        "model=createmodel()"
      ]
    },
    {
      "cell_type": "code",
      "execution_count": null,
      "metadata": {
        "id": "jECc4lQucRTR"
      },
      "outputs": [],
      "source": [
        "model.compile()"
      ]
    },
    {
      "cell_type": "code",
      "execution_count": null,
      "metadata": {
        "colab": {
          "base_uri": "https://localhost:8080/"
        },
        "id": "QorT2x3uXj-B",
        "outputId": "a40c66ad-8317-4fdd-c821-b3346f6f70b0"
      },
      "outputs": [
        {
          "name": "stdout",
          "output_type": "stream",
          "text": [
            "True\n"
          ]
        }
      ],
      "source": []
    },
    {
      "cell_type": "code",
      "execution_count": null,
      "metadata": {
        "colab": {
          "base_uri": "https://localhost:8080/"
        },
        "id": "eMHXRZvXSr7L",
        "outputId": "482505ad-169f-4dac-eece-a5e315e8e106"
      },
      "outputs": [
        {
          "output_type": "stream",
          "name": "stdout",
          "text": [
            "Epoch 1/100\n",
            "212/212 [==============================] - 22s 62ms/step - loss: 0.0992 - accuracy: 0.8676 - val_loss: 0.0693 - val_accuracy: 0.9054\n",
            "Epoch 2/100\n",
            "212/212 [==============================] - 6s 29ms/step - loss: 0.0604 - accuracy: 0.9217 - val_loss: 0.0505 - val_accuracy: 0.9421\n",
            "Epoch 3/100\n",
            "212/212 [==============================] - 7s 31ms/step - loss: 0.0525 - accuracy: 0.9294 - val_loss: 0.4862 - val_accuracy: 0.1714\n",
            "Epoch 4/100\n",
            "212/212 [==============================] - 6s 31ms/step - loss: 0.0447 - accuracy: 0.9412 - val_loss: 0.0410 - val_accuracy: 0.9433\n",
            "Epoch 5/100\n",
            "212/212 [==============================] - 6s 30ms/step - loss: 0.0442 - accuracy: 0.9397 - val_loss: 0.0490 - val_accuracy: 0.9504\n",
            "Epoch 6/100\n",
            "212/212 [==============================] - 7s 31ms/step - loss: 0.0414 - accuracy: 0.9436 - val_loss: 0.0446 - val_accuracy: 0.9433\n",
            "Epoch 7/100\n",
            "212/212 [==============================] - 6s 29ms/step - loss: 0.0402 - accuracy: 0.9465 - val_loss: 0.0425 - val_accuracy: 0.9421\n",
            "Epoch 8/100\n",
            "212/212 [==============================] - 7s 31ms/step - loss: 0.0355 - accuracy: 0.9548 - val_loss: 0.0330 - val_accuracy: 0.9574\n",
            "Epoch 9/100\n",
            "212/212 [==============================] - 6s 30ms/step - loss: 0.0324 - accuracy: 0.9607 - val_loss: 0.0319 - val_accuracy: 0.9622\n",
            "Epoch 10/100\n",
            "212/212 [==============================] - 6s 30ms/step - loss: 0.0289 - accuracy: 0.9663 - val_loss: 0.0207 - val_accuracy: 0.9787\n",
            "Epoch 11/100\n",
            "212/212 [==============================] - 6s 29ms/step - loss: 0.0261 - accuracy: 0.9672 - val_loss: 0.0272 - val_accuracy: 0.9669\n",
            "Epoch 12/100\n",
            "212/212 [==============================] - 6s 30ms/step - loss: 0.0232 - accuracy: 0.9725 - val_loss: 0.0282 - val_accuracy: 0.9669\n",
            "Epoch 13/100\n",
            "212/212 [==============================] - 6s 29ms/step - loss: 0.0231 - accuracy: 0.9719 - val_loss: 0.0193 - val_accuracy: 0.9752\n",
            "Epoch 14/100\n",
            "212/212 [==============================] - 6s 30ms/step - loss: 0.0219 - accuracy: 0.9740 - val_loss: 0.0219 - val_accuracy: 0.9752\n",
            "Epoch 15/100\n",
            "212/212 [==============================] - 6s 29ms/step - loss: 0.0190 - accuracy: 0.9772 - val_loss: 0.1365 - val_accuracy: 0.7825\n",
            "Epoch 16/100\n",
            "212/212 [==============================] - 6s 30ms/step - loss: 0.0186 - accuracy: 0.9781 - val_loss: 0.0191 - val_accuracy: 0.9752\n",
            "Epoch 17/100\n",
            "212/212 [==============================] - 6s 29ms/step - loss: 0.0171 - accuracy: 0.9805 - val_loss: 0.0645 - val_accuracy: 0.9054\n",
            "Epoch 18/100\n",
            "212/212 [==============================] - 7s 31ms/step - loss: 0.0165 - accuracy: 0.9802 - val_loss: 0.0169 - val_accuracy: 0.9799\n",
            "Epoch 19/100\n",
            "212/212 [==============================] - 7s 31ms/step - loss: 0.0171 - accuracy: 0.9784 - val_loss: 0.0206 - val_accuracy: 0.9775\n",
            "Epoch 20/100\n",
            "212/212 [==============================] - 7s 31ms/step - loss: 0.0150 - accuracy: 0.9817 - val_loss: 0.0296 - val_accuracy: 0.9622\n",
            "Epoch 21/100\n",
            "212/212 [==============================] - 7s 31ms/step - loss: 0.0149 - accuracy: 0.9814 - val_loss: 0.0147 - val_accuracy: 0.9799\n",
            "Epoch 22/100\n",
            "212/212 [==============================] - 6s 30ms/step - loss: 0.0136 - accuracy: 0.9835 - val_loss: 0.0138 - val_accuracy: 0.9835\n",
            "Epoch 23/100\n",
            "212/212 [==============================] - 6s 30ms/step - loss: 0.0154 - accuracy: 0.9808 - val_loss: 0.0150 - val_accuracy: 0.9811\n",
            "Epoch 24/100\n",
            "212/212 [==============================] - 6s 31ms/step - loss: 0.0113 - accuracy: 0.9870 - val_loss: 0.0187 - val_accuracy: 0.9752\n",
            "Epoch 25/100\n",
            "212/212 [==============================] - 7s 31ms/step - loss: 0.0122 - accuracy: 0.9861 - val_loss: 0.0175 - val_accuracy: 0.9799\n",
            "Epoch 26/100\n",
            "212/212 [==============================] - 6s 29ms/step - loss: 0.0108 - accuracy: 0.9879 - val_loss: 0.0170 - val_accuracy: 0.9787\n",
            "Epoch 27/100\n",
            "212/212 [==============================] - 6s 30ms/step - loss: 0.0112 - accuracy: 0.9873 - val_loss: 0.0142 - val_accuracy: 0.9835\n",
            "Epoch 28/100\n",
            "212/212 [==============================] - 6s 30ms/step - loss: 0.0103 - accuracy: 0.9891 - val_loss: 0.0193 - val_accuracy: 0.9764\n",
            "Epoch 29/100\n",
            "212/212 [==============================] - 6s 30ms/step - loss: 0.0086 - accuracy: 0.9905 - val_loss: 0.0256 - val_accuracy: 0.9657\n",
            "Epoch 30/100\n",
            "212/212 [==============================] - 7s 31ms/step - loss: 0.0105 - accuracy: 0.9882 - val_loss: 0.0216 - val_accuracy: 0.9752\n",
            "Epoch 31/100\n",
            "212/212 [==============================] - 6s 30ms/step - loss: 0.0094 - accuracy: 0.9891 - val_loss: 0.0195 - val_accuracy: 0.9764\n",
            "Epoch 32/100\n",
            "212/212 [==============================] - 6s 29ms/step - loss: 0.0097 - accuracy: 0.9879 - val_loss: 0.0091 - val_accuracy: 0.9894\n",
            "Epoch 33/100\n",
            "212/212 [==============================] - 7s 31ms/step - loss: 0.0096 - accuracy: 0.9894 - val_loss: 0.0148 - val_accuracy: 0.9835\n",
            "Epoch 34/100\n",
            "212/212 [==============================] - 6s 30ms/step - loss: 0.0088 - accuracy: 0.9905 - val_loss: 0.0292 - val_accuracy: 0.9634\n",
            "Epoch 35/100\n",
            "212/212 [==============================] - 7s 31ms/step - loss: 0.0089 - accuracy: 0.9900 - val_loss: 0.0170 - val_accuracy: 0.9799\n",
            "Epoch 36/100\n",
            "212/212 [==============================] - 6s 30ms/step - loss: 0.0086 - accuracy: 0.9894 - val_loss: 0.0122 - val_accuracy: 0.9835\n",
            "Epoch 37/100\n",
            "212/212 [==============================] - 7s 31ms/step - loss: 0.0094 - accuracy: 0.9900 - val_loss: 0.0155 - val_accuracy: 0.9811\n",
            "Epoch 38/100\n",
            "212/212 [==============================] - 6s 29ms/step - loss: 0.0083 - accuracy: 0.9902 - val_loss: 0.0158 - val_accuracy: 0.9811\n",
            "Epoch 39/100\n",
            "212/212 [==============================] - 7s 32ms/step - loss: 0.0090 - accuracy: 0.9891 - val_loss: 0.0121 - val_accuracy: 0.9858\n",
            "Epoch 40/100\n",
            "212/212 [==============================] - 6s 29ms/step - loss: 0.0069 - accuracy: 0.9932 - val_loss: 0.0134 - val_accuracy: 0.9835\n",
            "Epoch 41/100\n",
            "212/212 [==============================] - 6s 30ms/step - loss: 0.0087 - accuracy: 0.9905 - val_loss: 0.0095 - val_accuracy: 0.9882\n",
            "Epoch 42/100\n",
            "212/212 [==============================] - 6s 30ms/step - loss: 0.0073 - accuracy: 0.9923 - val_loss: 0.0200 - val_accuracy: 0.9752\n",
            "Epoch 43/100\n",
            "212/212 [==============================] - 7s 31ms/step - loss: 0.0077 - accuracy: 0.9914 - val_loss: 0.0158 - val_accuracy: 0.9823\n",
            "Epoch 44/100\n",
            "212/212 [==============================] - 6s 29ms/step - loss: 0.0073 - accuracy: 0.9920 - val_loss: 0.0119 - val_accuracy: 0.9870\n",
            "Epoch 45/100\n",
            "212/212 [==============================] - 7s 31ms/step - loss: 0.0068 - accuracy: 0.9923 - val_loss: 0.0134 - val_accuracy: 0.9835\n",
            "Epoch 46/100\n",
            "212/212 [==============================] - 6s 29ms/step - loss: 0.0071 - accuracy: 0.9920 - val_loss: 0.0107 - val_accuracy: 0.9894\n",
            "Epoch 47/100\n",
            "212/212 [==============================] - 7s 31ms/step - loss: 0.0079 - accuracy: 0.9902 - val_loss: 0.0110 - val_accuracy: 0.9870\n",
            "Epoch 48/100\n",
            "212/212 [==============================] - 6s 30ms/step - loss: 0.0074 - accuracy: 0.9914 - val_loss: 0.0097 - val_accuracy: 0.9882\n",
            "Epoch 49/100\n",
            "212/212 [==============================] - 6s 29ms/step - loss: 0.0068 - accuracy: 0.9929 - val_loss: 0.0097 - val_accuracy: 0.9894\n",
            "Epoch 50/100\n",
            "212/212 [==============================] - 6s 30ms/step - loss: 0.0074 - accuracy: 0.9917 - val_loss: 0.0117 - val_accuracy: 0.9870\n",
            "Epoch 51/100\n",
            "212/212 [==============================] - 6s 30ms/step - loss: 0.0078 - accuracy: 0.9908 - val_loss: 0.0105 - val_accuracy: 0.9894\n",
            "Epoch 52/100\n",
            "212/212 [==============================] - 7s 31ms/step - loss: 0.0063 - accuracy: 0.9938 - val_loss: 0.0097 - val_accuracy: 0.9905\n",
            "Epoch 53/100\n",
            "212/212 [==============================] - 6s 30ms/step - loss: 0.0057 - accuracy: 0.9938 - val_loss: 0.0119 - val_accuracy: 0.9835\n",
            "Epoch 54/100\n",
            "212/212 [==============================] - 7s 31ms/step - loss: 0.0061 - accuracy: 0.9935 - val_loss: 0.0103 - val_accuracy: 0.9882\n",
            "Epoch 55/100\n",
            "212/212 [==============================] - 6s 30ms/step - loss: 0.0091 - accuracy: 0.9902 - val_loss: 0.0119 - val_accuracy: 0.9858\n",
            "Epoch 56/100\n",
            "212/212 [==============================] - 6s 30ms/step - loss: 0.0073 - accuracy: 0.9911 - val_loss: 0.0301 - val_accuracy: 0.9657\n",
            "Epoch 57/100\n",
            "212/212 [==============================] - 6s 29ms/step - loss: 0.0070 - accuracy: 0.9917 - val_loss: 0.0094 - val_accuracy: 0.9905\n",
            "Epoch 58/100\n",
            "212/212 [==============================] - 7s 31ms/step - loss: 0.0054 - accuracy: 0.9941 - val_loss: 0.0077 - val_accuracy: 0.9929\n",
            "Epoch 59/100\n",
            "212/212 [==============================] - 6s 30ms/step - loss: 0.0084 - accuracy: 0.9897 - val_loss: 0.0136 - val_accuracy: 0.9835\n",
            "Epoch 60/100\n",
            "212/212 [==============================] - 7s 31ms/step - loss: 0.0073 - accuracy: 0.9917 - val_loss: 0.0118 - val_accuracy: 0.9870\n",
            "Epoch 61/100\n",
            "212/212 [==============================] - 6s 30ms/step - loss: 0.0057 - accuracy: 0.9932 - val_loss: 0.0075 - val_accuracy: 0.9917\n",
            "Epoch 62/100\n",
            "212/212 [==============================] - 7s 31ms/step - loss: 0.0054 - accuracy: 0.9932 - val_loss: 0.0079 - val_accuracy: 0.9905\n",
            "Epoch 63/100\n",
            "212/212 [==============================] - 6s 29ms/step - loss: 0.0067 - accuracy: 0.9923 - val_loss: 0.0108 - val_accuracy: 0.9870\n",
            "Epoch 64/100\n",
            "212/212 [==============================] - 6s 30ms/step - loss: 0.0054 - accuracy: 0.9947 - val_loss: 0.0132 - val_accuracy: 0.9858\n",
            "Epoch 65/100\n",
            "212/212 [==============================] - 7s 31ms/step - loss: 0.0065 - accuracy: 0.9923 - val_loss: 0.0087 - val_accuracy: 0.9905\n",
            "Epoch 66/100\n",
            "212/212 [==============================] - 6s 30ms/step - loss: 0.0054 - accuracy: 0.9941 - val_loss: 0.0092 - val_accuracy: 0.9882\n",
            "Epoch 67/100\n",
            "212/212 [==============================] - 7s 31ms/step - loss: 0.0049 - accuracy: 0.9944 - val_loss: 0.0109 - val_accuracy: 0.9846\n",
            "Epoch 68/100\n",
            "212/212 [==============================] - 6s 30ms/step - loss: 0.0057 - accuracy: 0.9932 - val_loss: 0.0078 - val_accuracy: 0.9917\n",
            "Epoch 69/100\n",
            "212/212 [==============================] - 7s 31ms/step - loss: 0.0048 - accuracy: 0.9944 - val_loss: 0.0082 - val_accuracy: 0.9905\n",
            "Epoch 70/100\n",
            "212/212 [==============================] - 6s 29ms/step - loss: 0.0040 - accuracy: 0.9959 - val_loss: 0.0097 - val_accuracy: 0.9905\n",
            "Epoch 71/100\n",
            "212/212 [==============================] - 7s 31ms/step - loss: 0.0048 - accuracy: 0.9941 - val_loss: 0.0122 - val_accuracy: 0.9870\n",
            "Epoch 72/100\n",
            "212/212 [==============================] - 7s 31ms/step - loss: 0.0059 - accuracy: 0.9929 - val_loss: 0.0118 - val_accuracy: 0.9870\n",
            "Epoch 73/100\n",
            "212/212 [==============================] - 7s 31ms/step - loss: 0.0045 - accuracy: 0.9950 - val_loss: 0.0111 - val_accuracy: 0.9882\n",
            "Epoch 74/100\n",
            "212/212 [==============================] - 6s 30ms/step - loss: 0.0039 - accuracy: 0.9953 - val_loss: 0.0215 - val_accuracy: 0.9728\n",
            "Epoch 75/100\n",
            "212/212 [==============================] - 7s 31ms/step - loss: 0.0041 - accuracy: 0.9956 - val_loss: 0.0142 - val_accuracy: 0.9846\n",
            "Epoch 76/100\n",
            "212/212 [==============================] - 6s 30ms/step - loss: 0.0043 - accuracy: 0.9956 - val_loss: 0.0102 - val_accuracy: 0.9870\n",
            "Epoch 77/100\n",
            "212/212 [==============================] - 7s 31ms/step - loss: 0.0041 - accuracy: 0.9956 - val_loss: 0.0139 - val_accuracy: 0.9846\n",
            "Epoch 78/100\n",
            "212/212 [==============================] - 6s 30ms/step - loss: 0.0042 - accuracy: 0.9953 - val_loss: 0.0188 - val_accuracy: 0.9775\n",
            "Epoch 79/100\n",
            "212/212 [==============================] - 6s 30ms/step - loss: 0.0043 - accuracy: 0.9950 - val_loss: 0.0088 - val_accuracy: 0.9894\n",
            "Epoch 80/100\n",
            "212/212 [==============================] - 6s 30ms/step - loss: 0.0035 - accuracy: 0.9962 - val_loss: 0.0086 - val_accuracy: 0.9905\n",
            "Epoch 81/100\n",
            "212/212 [==============================] - 6s 30ms/step - loss: 0.0037 - accuracy: 0.9959 - val_loss: 0.0114 - val_accuracy: 0.9870\n",
            "Epoch 82/100\n",
            "212/212 [==============================] - 6s 29ms/step - loss: 0.0034 - accuracy: 0.9965 - val_loss: 0.0074 - val_accuracy: 0.9917\n",
            "Epoch 83/100\n",
            "212/212 [==============================] - 6s 28ms/step - loss: 0.0035 - accuracy: 0.9962 - val_loss: 0.0107 - val_accuracy: 0.9882\n",
            "Epoch 84/100\n",
            "212/212 [==============================] - 6s 29ms/step - loss: 0.0039 - accuracy: 0.9956 - val_loss: 0.0245 - val_accuracy: 0.9704\n",
            "Epoch 85/100\n",
            "212/212 [==============================] - 7s 31ms/step - loss: 0.0047 - accuracy: 0.9953 - val_loss: 0.0144 - val_accuracy: 0.9835\n",
            "Epoch 86/100\n",
            "212/212 [==============================] - 6s 30ms/step - loss: 0.0034 - accuracy: 0.9965 - val_loss: 0.0128 - val_accuracy: 0.9858\n",
            "Epoch 87/100\n",
            "212/212 [==============================] - 6s 30ms/step - loss: 0.0050 - accuracy: 0.9944 - val_loss: 0.0098 - val_accuracy: 0.9882\n",
            "Epoch 88/100\n",
            "212/212 [==============================] - 7s 31ms/step - loss: 0.0038 - accuracy: 0.9962 - val_loss: 0.0125 - val_accuracy: 0.9846\n",
            "Epoch 89/100\n",
            "212/212 [==============================] - 6s 31ms/step - loss: 0.0033 - accuracy: 0.9962 - val_loss: 0.0078 - val_accuracy: 0.9917\n",
            "Epoch 90/100\n",
            "212/212 [==============================] - 6s 29ms/step - loss: 0.0041 - accuracy: 0.9953 - val_loss: 0.0366 - val_accuracy: 0.9563\n",
            "Epoch 91/100\n",
            "212/212 [==============================] - 6s 30ms/step - loss: 0.0059 - accuracy: 0.9929 - val_loss: 0.0104 - val_accuracy: 0.9894\n",
            "Epoch 92/100\n",
            "212/212 [==============================] - 7s 31ms/step - loss: 0.0045 - accuracy: 0.9956 - val_loss: 0.0122 - val_accuracy: 0.9858\n",
            "Epoch 93/100\n",
            "212/212 [==============================] - 6s 30ms/step - loss: 0.0052 - accuracy: 0.9938 - val_loss: 0.0116 - val_accuracy: 0.9870\n",
            "Epoch 94/100\n",
            "212/212 [==============================] - 6s 30ms/step - loss: 0.0036 - accuracy: 0.9962 - val_loss: 0.0069 - val_accuracy: 0.9917\n",
            "Epoch 95/100\n",
            "212/212 [==============================] - 6s 29ms/step - loss: 0.0047 - accuracy: 0.9944 - val_loss: 0.0101 - val_accuracy: 0.9882\n",
            "Epoch 96/100\n",
            "212/212 [==============================] - 6s 30ms/step - loss: 0.0048 - accuracy: 0.9944 - val_loss: 0.0095 - val_accuracy: 0.9894\n",
            "Epoch 97/100\n",
            "212/212 [==============================] - 6s 29ms/step - loss: 0.0037 - accuracy: 0.9956 - val_loss: 0.0089 - val_accuracy: 0.9894\n",
            "Epoch 98/100\n",
            "212/212 [==============================] - 6s 30ms/step - loss: 0.0036 - accuracy: 0.9959 - val_loss: 0.0093 - val_accuracy: 0.9905\n",
            "Epoch 99/100\n",
            "212/212 [==============================] - 6s 29ms/step - loss: 0.0045 - accuracy: 0.9944 - val_loss: 0.0142 - val_accuracy: 0.9811\n",
            "Epoch 100/100\n",
            "212/212 [==============================] - 6s 30ms/step - loss: 0.0040 - accuracy: 0.9956 - val_loss: 0.0116 - val_accuracy: 0.9882\n"
          ]
        }
      ],
      "source": [
        "#from tensorflow.keras import Model\n",
        "#model = createModel()\n",
        "ssim_loss = tf.keras.losses.MeanSquaredError()\n",
        "\n",
        "\n",
        "\n",
        "ssim_loss = tf.keras.losses.MeanSquaredError()  # Correct assignment\n",
        "\n",
        "model.compile(optimizer=tf.keras.optimizers.RMSprop(learning_rate=0.0001),\n",
        "              loss=ssim_loss,\n",
        "              metrics=['accuracy'])\n",
        "\n",
        "history = model.fit(X_train, y_train, batch_size=16, epochs=100, validation_data=(X_test,y_test),\n",
        "                    verbose=1,  shuffle=True)"
      ]
    },
    {
      "cell_type": "code",
      "source": [
        "model.summary()"
      ],
      "metadata": {
        "id": "lLLB_2P4orK_",
        "outputId": "4bfd0493-98d8-4915-cc15-de1bf8027b7a",
        "colab": {
          "base_uri": "https://localhost:8080/"
        }
      },
      "execution_count": null,
      "outputs": [
        {
          "output_type": "stream",
          "name": "stdout",
          "text": [
            "Model: \"sequential\"\n",
            "_________________________________________________________________\n",
            " Layer (type)                Output Shape              Param #   \n",
            "=================================================================\n",
            " conv2d (Conv2D)             (None, 128, 128, 32)      896       \n",
            "                                                                 \n",
            " conv2d_1 (Conv2D)           (None, 126, 126, 32)      9248      \n",
            "                                                                 \n",
            " max_pooling2d (MaxPooling2  (None, 63, 63, 32)        0         \n",
            " D)                                                              \n",
            "                                                                 \n",
            " dropout (Dropout)           (None, 63, 63, 32)        0         \n",
            "                                                                 \n",
            " conv2d_2 (Conv2D)           (None, 63, 63, 64)        18496     \n",
            "                                                                 \n",
            " conv2d_3 (Conv2D)           (None, 61, 61, 64)        36928     \n",
            "                                                                 \n",
            " max_pooling2d_1 (MaxPoolin  (None, 30, 30, 64)        0         \n",
            " g2D)                                                            \n",
            "                                                                 \n",
            " dropout_1 (Dropout)         (None, 30, 30, 64)        0         \n",
            "                                                                 \n",
            " conv2d_4 (Conv2D)           (None, 30, 30, 64)        36928     \n",
            "                                                                 \n",
            " conv2d_5 (Conv2D)           (None, 28, 28, 64)        36928     \n",
            "                                                                 \n",
            " max_pooling2d_2 (MaxPoolin  (None, 14, 14, 64)        0         \n",
            " g2D)                                                            \n",
            "                                                                 \n",
            " dropout_2 (Dropout)         (None, 14, 14, 64)        0         \n",
            "                                                                 \n",
            " flatten (Flatten)           (None, 12544)             0         \n",
            "                                                                 \n",
            " dense (Dense)               (None, 512)               6423040   \n",
            "                                                                 \n",
            " dropout_3 (Dropout)         (None, 512)               0         \n",
            "                                                                 \n",
            " dense_1 (Dense)             (None, 2)                 1026      \n",
            "                                                                 \n",
            "=================================================================\n",
            "Total params: 6563490 (25.04 MB)\n",
            "Trainable params: 6563490 (25.04 MB)\n",
            "Non-trainable params: 0 (0.00 Byte)\n",
            "_________________________________________________________________\n"
          ]
        }
      ]
    },
    {
      "cell_type": "code",
      "execution_count": null,
      "metadata": {
        "colab": {
          "base_uri": "https://localhost:8080/"
        },
        "id": "mVFc2tY5WSkZ",
        "outputId": "25b9d921-c74f-4a79-d6d8-82bcb2a298c1"
      },
      "outputs": [
        {
          "output_type": "stream",
          "name": "stdout",
          "text": [
            "27/27 [==============================] - 1s 9ms/step\n"
          ]
        }
      ],
      "source": [
        "y_pred=model.predict(X_test)"
      ]
    },
    {
      "cell_type": "code",
      "execution_count": null,
      "metadata": {
        "colab": {
          "base_uri": "https://localhost:8080/"
        },
        "id": "SeQhcSTeM1np",
        "outputId": "f1f2bc64-ccee-42f9-baef-d39897ea2bed"
      },
      "outputs": [
        {
          "name": "stdout",
          "output_type": "stream",
          "text": [
            "[0 0 0 0 0 0 0 0 0 1 0 1 0 1 0 0 0 0 0 0 0 0 0 0 0 1 0 0 1 0 0 0 0 0 0 1 0\n",
            " 0 0 0 0 0 0 0 0 0 0 0 0 0 0 0 0 0 0 0 0 0 1 0 1 0 0 1 0 0 0 0 0 0 0 0 0 0\n",
            " 0 0 0 0 0 0 0 0 0 0 0 1 0 0 0 0 0 0 0 0 0 0 0 1 0 0 1 0 0 0 1 0 0 1 0 0 0\n",
            " 0 0 0 0 0 1 0 0 1 0 0 0 0 1 0 0 0 1 0 0 0 0 0 1 1 0 0 1 0 0 1 0 1 0 0 0 0\n",
            " 1 1 0 0 0 0 0 0 0 0 0 0 0 0 0 0 0 0 0 0 0 0 0 0 0 0 0 1 0 0 1 0 1 0 0 0 0\n",
            " 0 0 0 1 0 0 0 0 0 1 0 0 0 0 0 0 0 1 0 0 1 0 0 1 0 0 1 0 0 0 0 1 0 0 1 1 0\n",
            " 0 0 0 0 0 0 0 0 0 0 0 0 0 0 0 1 0 0 0 0 0 0 0 0 0 0 0 1 0 0 0 0 0 0 1 0 0\n",
            " 0 0 0 0 0 0 0 0 0 0 0 0 0 0 1 1 0 0 0 0 0 0 0 0 0 0 0 0 0 0 0 0 0 0 1 0 0\n",
            " 1 0 0 0 0 0 0 0 0 0 0 1 0 0 0 0 0 1 0 0 0 0 0 0 0 0 0 0 0 0 0 0 0 1 0 1 1\n",
            " 0 0 0 0 0 0 0 1 1 0 0 0 0 0 0 0 1 0 1 0 0 1 1 0 0 0 0 0 0 0 0 0 1 0 0 1 0\n",
            " 1 0 0 0 0 1 1 0 0 0 1 0 0 1 1 0 0 0 0 0 0 0 0 0 0 0 1 0 0 1 0 0 1 0 0 1 0\n",
            " 0 0 0 0 0 0 0 0 0 0 0 0 1 0 0 0 1 1 0 1 0 1 0 0 1 0 0 0 0 0 0 0 0 0 0 0 0\n",
            " 0 0 1 1 0 0 0 0 1 0 1 0 1 0 1 0 0 0 0 0 0 0 1 0 0 0 0 0 0 0 0 1 0 0 0 0 0\n",
            " 0 0 0 0 0 0 0 1 0 1 0 0 0 0 0 1 1 0 0 0 0 0 0 0 0 0 0 0 0 1 0 0 1 0 0 0 0\n",
            " 0 0 0 0 0 1 0 0 0 0 0 0 0 0 1 0 0 0 0 0 0 0 1 0 0 0 0 0 0 0 0 0 0 1 0 1 0\n",
            " 0 0 0 0 0 0 0 0 0 0 0 0 0 0 1 0 0 1 0 0 0 0 0 0 0 0 0 0 0 0 0 0 1 0 0 0 0\n",
            " 0 0 0 0 0 0 0 0 0 0 0 0 1 0 0 0 1 0 1 0 0 1 0 0 1 0 0 0 0 0 0 0 0 1 0 0 0\n",
            " 0 0 0 0 0 0 0 1 1 0 0 0 0 0 1 0 0 0 0 1 0 0 0 1 0 1 1 1 0 0 0 1 0 0 0 0 0\n",
            " 1 0 0 0 0 0 0 0 1 0 0 1 0 0 0 0 0 0 0 0 1 1 0 1 0 0 0 0 0 0 1 0 0 1 1 1 0\n",
            " 0 0 1 0 0 0 0 0 0 0 0 0 0 0 0 0 1 0 0 1 0 1 0 0 0 0 0 1 0 0 1 0 0 1 0 0 0\n",
            " 0 0 0 1 0 0 0 1 0 1 0 0 0 1 0 0 0 0 0 0 0 0 0 1 0 0 0 1 0 0 1 0 0 0 0 0 0\n",
            " 0 1 0 0 0 0 0 0 0 0 0 0 1 0 0 0 0 0 0 0 0 0 0 0 0 0 0 0 1 1 0 1 0 0 0 1 0\n",
            " 0 0 0 1 0 0 1 0 0 0 0 0 0 1 0 0 0 1 0 1 0 0 0 0 0 0 1 0 1 0 1 0]\n"
          ]
        }
      ],
      "source": [
        "print(np.argmax(y_pred,axis = 1))\n",
        "\n"
      ]
    },
    {
      "cell_type": "code",
      "execution_count": null,
      "metadata": {
        "colab": {
          "base_uri": "https://localhost:8080/"
        },
        "id": "5yfrmUxzM6iD",
        "outputId": "6d157b07-672d-46b3-cc3c-9c24d5321fc1"
      },
      "outputs": [
        {
          "name": "stdout",
          "output_type": "stream",
          "text": [
            "[0 0 0 0 0 0 0 0 0 1 0 1 0 1 0 0 0 0 0 0 0 0 0 0 0 1 0 0 1 0 0 0 0 0 0 1 0\n",
            " 0 0 0 0 0 0 0 0 0 0 0 0 0 0 0 0 0 0 0 0 0 1 0 1 0 0 1 0 0 0 0 0 0 0 0 0 0\n",
            " 0 0 0 0 0 0 0 0 0 0 0 1 0 0 0 0 0 0 0 0 0 0 0 1 0 0 1 0 0 0 1 0 0 1 0 0 0\n",
            " 0 0 0 0 0 1 0 0 1 0 0 0 0 0 0 0 0 1 0 0 0 0 0 1 1 0 0 1 0 0 1 0 1 0 0 0 0\n",
            " 1 1 0 0 0 0 0 0 0 0 0 0 0 0 0 0 0 0 0 0 0 0 0 0 0 0 0 1 0 0 1 0 1 0 0 0 0\n",
            " 0 0 0 1 0 0 0 0 0 1 0 0 0 0 0 0 0 1 0 0 1 0 0 1 0 0 1 0 0 0 0 1 0 0 1 1 0\n",
            " 0 0 0 0 0 0 0 0 0 0 0 0 0 0 0 1 0 0 0 0 0 0 0 0 0 0 0 1 0 0 0 0 0 0 1 0 0\n",
            " 0 0 0 0 0 0 0 0 0 0 0 0 0 0 1 1 0 0 0 0 0 0 0 0 0 0 0 0 0 0 0 0 0 0 1 0 0\n",
            " 1 0 0 0 0 0 0 0 0 0 0 1 0 0 0 0 0 1 0 0 0 0 0 0 0 0 0 0 0 0 1 0 0 1 0 1 1\n",
            " 0 0 0 0 0 0 0 1 1 0 0 0 0 0 0 0 1 0 1 0 0 1 1 0 0 0 0 0 0 0 0 0 1 0 0 1 0\n",
            " 1 0 0 0 0 1 1 0 0 0 1 0 0 1 1 0 0 0 0 0 0 0 0 0 0 0 1 0 0 1 0 0 1 0 0 1 0\n",
            " 0 0 0 0 0 0 0 0 0 0 0 0 1 0 0 0 1 1 0 1 0 1 0 0 1 0 0 0 0 0 0 0 0 0 0 0 0\n",
            " 0 0 1 1 0 0 0 0 1 0 1 0 1 0 1 0 0 0 0 0 0 0 1 0 0 0 0 0 0 0 0 1 0 0 0 0 0\n",
            " 0 0 0 0 0 0 0 1 0 1 0 0 0 0 0 1 0 0 0 0 0 0 0 0 0 0 0 0 0 1 0 0 1 0 0 0 0\n",
            " 0 0 0 0 0 0 0 0 0 0 0 0 0 0 1 0 0 0 0 0 0 0 1 0 0 0 0 0 0 0 0 0 0 1 0 1 0\n",
            " 0 0 0 0 0 0 0 0 0 0 0 0 0 0 1 0 0 1 0 0 0 0 0 0 0 0 0 0 0 0 0 0 1 0 0 0 0\n",
            " 0 0 0 0 0 0 0 0 0 0 0 0 1 0 0 0 1 0 1 0 0 1 0 0 1 0 0 0 0 0 0 0 0 1 0 0 0\n",
            " 0 0 0 0 0 0 0 1 1 0 0 0 0 0 1 0 0 0 0 0 0 0 0 1 0 1 1 1 0 0 0 1 0 0 0 0 0\n",
            " 1 0 0 0 0 0 0 0 1 0 0 1 0 0 0 0 0 0 0 0 1 1 0 1 0 0 0 0 0 0 1 0 0 1 1 1 0\n",
            " 0 0 1 0 0 0 0 0 0 0 0 0 0 0 0 0 1 0 0 1 0 1 0 0 0 0 0 1 0 0 1 0 1 1 0 0 0\n",
            " 0 0 0 1 0 0 0 1 0 1 0 0 0 1 0 0 0 0 0 0 0 0 0 1 0 0 0 1 0 0 1 0 0 0 0 0 0\n",
            " 0 1 0 0 0 0 0 0 0 0 0 0 1 0 0 0 0 0 0 0 0 0 0 0 0 0 0 0 1 1 0 0 0 0 0 1 0\n",
            " 0 0 0 1 0 0 1 0 0 0 0 0 0 1 0 0 0 1 0 1 0 0 0 0 0 0 1 0 1 0 1 0]\n"
          ]
        }
      ],
      "source": [
        "print(np.argmax(y_test,axis = 1))"
      ]
    },
    {
      "cell_type": "code",
      "execution_count": null,
      "metadata": {
        "colab": {
          "base_uri": "https://localhost:8080/",
          "height": 501
        },
        "id": "xfuhbtQmWC-q",
        "outputId": "fcfb5b9c-dbf6-4dfd-d64c-524b96be5427"
      },
      "outputs": [
        {
          "output_type": "execute_result",
          "data": {
            "text/plain": [
              "(<Figure size 500x500 with 1 Axes>,\n",
              " <Axes: xlabel='predicted label', ylabel='true label'>)"
            ]
          },
          "metadata": {},
          "execution_count": 11
        },
        {
          "output_type": "display_data",
          "data": {
            "text/plain": [
              "<Figure size 500x500 with 1 Axes>"
            ],
            "image/png": "[encoded data removed]"
          },
          "metadata": {}
        }
      ],
      "source": [
        "from sklearn.metrics import confusion_matrix, accuracy_score, classification_report\n",
        "from mlxtend.plotting import plot_confusion_matrix\n",
        "cm= confusion_matrix(np.argmax(y_test,axis=1), np.argmax(y_pred,axis=1))\n",
        "plot_confusion_matrix(cm, figsize=(5,5))"
      ]
    },
    {
      "cell_type": "code",
      "execution_count": null,
      "metadata": {
        "id": "bAloL_Q_KL5p"
      },
      "outputs": [],
      "source": []
    },
    {
      "cell_type": "code",
      "execution_count": null,
      "metadata": {
        "id": "KaNdWhcwelWw"
      },
      "outputs": [],
      "source": [
        "# model.save('/content/drive/MyDrive/attention_model/1-unet_50_ssim-loss.h5')"
      ]
    },
    {
      "cell_type": "markdown",
      "metadata": {
        "id": "D_fTXGUqeulW"
      },
      "source": [
        "Visualize Loss and Accuracy"
      ]
    },
    {
      "cell_type": "code",
      "execution_count": null,
      "metadata": {
        "colab": {
          "base_uri": "https://localhost:8080/",
          "height": 494
        },
        "id": "vvRSyLf7ex7v",
        "outputId": "6afd32f9-3145-4ebd-cce0-194eb0f924d5"
      },
      "outputs": [
        {
          "output_type": "display_data",
          "data": {
            "text/plain": [
              "<Figure size 640x480 with 1 Axes>"
            ],
            "image/png": "[encoded data removed]"
          },
          "metadata": {}
        }
      ],
      "source": [
        "plt.plot(history.history['loss'])\n",
        "plt.plot(history.history['val_loss'])\n",
        "plt.title('Model loss', fontsize=20)\n",
        "plt.ylabel('Loss', fontsize=20)\n",
        "plt.xlabel('epoch', fontsize=20)\n",
        "plt.legend(['train_loss', 'val_loss'], loc='upper right', fontsize=15)\n",
        "plt.grid()\n",
        "plt.show()"
      ]
    },
    {
      "cell_type": "code",
      "execution_count": null,
      "metadata": {
        "colab": {
          "base_uri": "https://localhost:8080/",
          "height": 494
        },
        "id": "E0RXT1Gb0anl",
        "outputId": "8491ab82-755a-4491-ae16-52e2fa509a5a"
      },
      "outputs": [
        {
          "output_type": "display_data",
          "data": {
            "text/plain": [
              "<Figure size 640x480 with 1 Axes>"
            ],
            "image/png": "[encoded data removed]"
          },
          "metadata": {}
        }
      ],
      "source": [
        "plt.plot(history.history['accuracy'])\n",
        "plt.plot(history.history['val_accuracy'])\n",
        "plt.title('Model accuracy', fontsize=20)\n",
        "plt.ylabel('Loss', fontsize=20)\n",
        "plt.xlabel('epoch', fontsize=20)\n",
        "plt.legend(['train_accuracy', 'val_accuracy'], loc='upper right', fontsize=15)\n",
        "plt.grid()\n",
        "# plt.savefig('/content/drive/MyDrive/1811011/PROGRESS_2/FILES/FGED-RO/FEDRO_With_R1__Loss.pdf')\n",
        "plt.show()"
      ]
    },
    {
      "cell_type": "markdown",
      "metadata": {
        "id": "QvCrd7VYe3cr"
      },
      "source": [
        "Test Model"
      ]
    }
  ],
  "metadata": {
    "accelerator": "GPU",
    "colab": {
      "gpuType": "T4",
      "provenance": [],
      "mount_file_id": "1ca7K7BABHSIg9Ovc4MF5Gg2WcsImuKRQ",
      "authorship_tag": "ABX9TyPfPyAdfvGZNAGruFCuCsBO",
      "include_colab_link": true
    },
    "kernelspec": {
      "display_name": "Python 3",
      "name": "python3"
    },
    "language_info": {
      "name": "python"
    }
  },
  "nbformat": 4,
  "nbformat_minor": 0
}